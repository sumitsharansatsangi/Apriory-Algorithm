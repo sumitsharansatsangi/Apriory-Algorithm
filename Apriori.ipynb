{
 "cells": [
  {
   "cell_type": "code",
   "execution_count": 1,
   "metadata": {},
   "outputs": [],
   "source": [
    "import pandas as pd\n",
    "import itertools\n",
    "df=pd.read_csv(\"/home/sumit/Desktop/bhawani_dataset.csv\",sep=\" \",header=None)"
   ]
  },
  {
   "cell_type": "code",
   "execution_count": 2,
   "metadata": {},
   "outputs": [],
   "source": [
    "trans={}\n",
    "for i in range(df.shape[0]):\n",
    "    if isinstance(df[1][i],str): \n",
    "        trans[df[0][i]]=df[1][i].split(\",\")"
   ]
  },
  {
   "cell_type": "code",
   "execution_count": 3,
   "metadata": {},
   "outputs": [
    {
     "data": {
      "text/plain": [
       "{101: ['Milk', 'Biscuit'],\n",
       " 102: ['Kachori', 'Tea'],\n",
       " 103: ['Samosha', 'Tea'],\n",
       " 104: ['Jalebi', 'Milk'],\n",
       " 105: ['Kurkure', 'Lays'],\n",
       " 106: ['Namkeen', 'Tea'],\n",
       " 107: ['Biscuit', 'Tea'],\n",
       " 108: ['Samosha', 'Jalebi', 'Kurkure'],\n",
       " 109: ['Kachori', 'Jalebi'],\n",
       " 110: ['Namkeen', 'Jalebi'],\n",
       " 111: ['Lays', 'Tea'],\n",
       " 112: ['Milk', 'Biscuit', 'Jalebi'],\n",
       " 113: ['Samosha', 'Tea', 'Biscuit'],\n",
       " 114: ['Namkeen', 'Tea', 'Lays'],\n",
       " 115: ['Lays', 'Kurkure', 'Lays'],\n",
       " 116: ['Kachori', 'Tea', 'Kurkure'],\n",
       " 117: ['Samosha']}"
      ]
     },
     "execution_count": 3,
     "metadata": {},
     "output_type": "execute_result"
    }
   ],
   "source": [
    "trans"
   ]
  },
  {
   "cell_type": "code",
   "execution_count": 4,
   "metadata": {},
   "outputs": [
    {
     "data": {
      "text/html": [
       "<div>\n",
       "<style scoped>\n",
       "    .dataframe tbody tr th:only-of-type {\n",
       "        vertical-align: middle;\n",
       "    }\n",
       "\n",
       "    .dataframe tbody tr th {\n",
       "        vertical-align: top;\n",
       "    }\n",
       "\n",
       "    .dataframe thead th {\n",
       "        text-align: right;\n",
       "    }\n",
       "</style>\n",
       "<table border=\"1\" class=\"dataframe\">\n",
       "  <thead>\n",
       "    <tr style=\"text-align: right;\">\n",
       "      <th></th>\n",
       "      <th>0</th>\n",
       "      <th>1</th>\n",
       "    </tr>\n",
       "  </thead>\n",
       "  <tbody>\n",
       "    <tr>\n",
       "      <th>0</th>\n",
       "      <td>101</td>\n",
       "      <td>Milk,Biscuit</td>\n",
       "    </tr>\n",
       "    <tr>\n",
       "      <th>1</th>\n",
       "      <td>102</td>\n",
       "      <td>Kachori,Tea</td>\n",
       "    </tr>\n",
       "    <tr>\n",
       "      <th>2</th>\n",
       "      <td>103</td>\n",
       "      <td>Samosha,Tea</td>\n",
       "    </tr>\n",
       "    <tr>\n",
       "      <th>3</th>\n",
       "      <td>104</td>\n",
       "      <td>Jalebi,Milk</td>\n",
       "    </tr>\n",
       "    <tr>\n",
       "      <th>4</th>\n",
       "      <td>105</td>\n",
       "      <td>Kurkure,Lays</td>\n",
       "    </tr>\n",
       "    <tr>\n",
       "      <th>5</th>\n",
       "      <td>106</td>\n",
       "      <td>Namkeen,Tea</td>\n",
       "    </tr>\n",
       "    <tr>\n",
       "      <th>6</th>\n",
       "      <td>107</td>\n",
       "      <td>Biscuit,Tea</td>\n",
       "    </tr>\n",
       "    <tr>\n",
       "      <th>7</th>\n",
       "      <td>108</td>\n",
       "      <td>Samosha,Jalebi,Kurkure</td>\n",
       "    </tr>\n",
       "    <tr>\n",
       "      <th>8</th>\n",
       "      <td>109</td>\n",
       "      <td>Kachori,Jalebi</td>\n",
       "    </tr>\n",
       "    <tr>\n",
       "      <th>9</th>\n",
       "      <td>110</td>\n",
       "      <td>Namkeen,Jalebi</td>\n",
       "    </tr>\n",
       "    <tr>\n",
       "      <th>10</th>\n",
       "      <td>111</td>\n",
       "      <td>Lays,Tea</td>\n",
       "    </tr>\n",
       "    <tr>\n",
       "      <th>11</th>\n",
       "      <td>112</td>\n",
       "      <td>Milk,Biscuit,Jalebi</td>\n",
       "    </tr>\n",
       "    <tr>\n",
       "      <th>12</th>\n",
       "      <td>113</td>\n",
       "      <td>Samosha,Tea,Biscuit</td>\n",
       "    </tr>\n",
       "    <tr>\n",
       "      <th>13</th>\n",
       "      <td>114</td>\n",
       "      <td>Namkeen,Tea,Lays</td>\n",
       "    </tr>\n",
       "    <tr>\n",
       "      <th>14</th>\n",
       "      <td>115</td>\n",
       "      <td>Lays,Kurkure,Lays</td>\n",
       "    </tr>\n",
       "    <tr>\n",
       "      <th>15</th>\n",
       "      <td>116</td>\n",
       "      <td>Kachori,Tea,Kurkure</td>\n",
       "    </tr>\n",
       "    <tr>\n",
       "      <th>16</th>\n",
       "      <td>117</td>\n",
       "      <td>Milk</td>\n",
       "    </tr>\n",
       "    <tr>\n",
       "      <th>17</th>\n",
       "      <td>117</td>\n",
       "      <td>Samosha</td>\n",
       "    </tr>\n",
       "  </tbody>\n",
       "</table>\n",
       "</div>"
      ],
      "text/plain": [
       "      0                       1\n",
       "0   101            Milk,Biscuit\n",
       "1   102             Kachori,Tea\n",
       "2   103             Samosha,Tea\n",
       "3   104             Jalebi,Milk\n",
       "4   105            Kurkure,Lays\n",
       "5   106             Namkeen,Tea\n",
       "6   107             Biscuit,Tea\n",
       "7   108  Samosha,Jalebi,Kurkure\n",
       "8   109          Kachori,Jalebi\n",
       "9   110          Namkeen,Jalebi\n",
       "10  111                Lays,Tea\n",
       "11  112     Milk,Biscuit,Jalebi\n",
       "12  113     Samosha,Tea,Biscuit\n",
       "13  114        Namkeen,Tea,Lays\n",
       "14  115       Lays,Kurkure,Lays\n",
       "15  116     Kachori,Tea,Kurkure\n",
       "16  117                    Milk\n",
       "17  117                 Samosha"
      ]
     },
     "execution_count": 4,
     "metadata": {},
     "output_type": "execute_result"
    }
   ],
   "source": [
    "df"
   ]
  },
  {
   "cell_type": "code",
   "execution_count": 5,
   "metadata": {},
   "outputs": [],
   "source": [
    "c1={}\n",
    "for i in range(df.shape[0]):\n",
    "    itemList=df[1][i].split(\",\")\n",
    "    for item in itemList:\n",
    "        if item not in c1:\n",
    "            c1[item]=1\n",
    "        else:\n",
    "            c1[item]+=1"
   ]
  },
  {
   "cell_type": "code",
   "execution_count": 6,
   "metadata": {},
   "outputs": [
    {
     "data": {
      "text/plain": [
       "{'Milk': 4,\n",
       " 'Biscuit': 4,\n",
       " 'Kachori': 3,\n",
       " 'Tea': 8,\n",
       " 'Samosha': 4,\n",
       " 'Jalebi': 5,\n",
       " 'Kurkure': 4,\n",
       " 'Lays': 5,\n",
       " 'Namkeen': 3}"
      ]
     },
     "execution_count": 6,
     "metadata": {},
     "output_type": "execute_result"
    }
   ],
   "source": [
    "c1"
   ]
  },
  {
   "cell_type": "code",
   "execution_count": 19,
   "metadata": {},
   "outputs": [],
   "source": [
    "support=4\n",
    "l1={}\n",
    "k=c1.keys()\n",
    "c=c1.values()"
   ]
  },
  {
   "cell_type": "code",
   "execution_count": 20,
   "metadata": {},
   "outputs": [],
   "source": [
    "for key,i in zip(k,c):\n",
    "    if i>=support:\n",
    "        l1[key]=i"
   ]
  },
  {
   "cell_type": "code",
   "execution_count": 21,
   "metadata": {},
   "outputs": [
    {
     "data": {
      "text/plain": [
       "{'Milk': 4,\n",
       " 'Biscuit': 4,\n",
       " 'Tea': 8,\n",
       " 'Samosha': 4,\n",
       " 'Jalebi': 5,\n",
       " 'Kurkure': 4,\n",
       " 'Lays': 5}"
      ]
     },
     "execution_count": 21,
     "metadata": {},
     "output_type": "execute_result"
    }
   ],
   "source": [
    "l1"
   ]
  },
  {
   "cell_type": "code",
   "execution_count": 22,
   "metadata": {},
   "outputs": [],
   "source": [
    "s=sorted(l1)"
   ]
  },
  {
   "cell_type": "code",
   "execution_count": 23,
   "metadata": {},
   "outputs": [
    {
     "data": {
      "text/plain": [
       "['Biscuit', 'Jalebi', 'Kurkure', 'Lays', 'Milk', 'Samosha', 'Tea']"
      ]
     },
     "execution_count": 23,
     "metadata": {},
     "output_type": "execute_result"
    }
   ],
   "source": [
    "s"
   ]
  },
  {
   "cell_type": "code",
   "execution_count": 24,
   "metadata": {},
   "outputs": [],
   "source": [
    "c2=[]\n",
    "for element in itertools.product(s,s):\n",
    "    j,k=element\n",
    "    if(j!=k):\n",
    "        c2.append(element)"
   ]
  },
  {
   "cell_type": "code",
   "execution_count": 25,
   "metadata": {},
   "outputs": [],
   "source": [
    "for i,j in c2:\n",
    "    for k,l in c2:\n",
    "        if (i==l and j==k):\n",
    "            c2.remove((k,l))"
   ]
  },
  {
   "cell_type": "code",
   "execution_count": 26,
   "metadata": {},
   "outputs": [
    {
     "data": {
      "text/plain": [
       "[('Biscuit', 'Jalebi'),\n",
       " ('Biscuit', 'Kurkure'),\n",
       " ('Biscuit', 'Lays'),\n",
       " ('Biscuit', 'Milk'),\n",
       " ('Biscuit', 'Samosha'),\n",
       " ('Biscuit', 'Tea'),\n",
       " ('Jalebi', 'Kurkure'),\n",
       " ('Jalebi', 'Lays'),\n",
       " ('Jalebi', 'Milk'),\n",
       " ('Jalebi', 'Samosha'),\n",
       " ('Jalebi', 'Tea'),\n",
       " ('Kurkure', 'Lays'),\n",
       " ('Kurkure', 'Milk'),\n",
       " ('Kurkure', 'Samosha'),\n",
       " ('Kurkure', 'Tea'),\n",
       " ('Lays', 'Milk'),\n",
       " ('Lays', 'Samosha'),\n",
       " ('Lays', 'Tea'),\n",
       " ('Milk', 'Samosha'),\n",
       " ('Milk', 'Tea'),\n",
       " ('Samosha', 'Tea')]"
      ]
     },
     "execution_count": 26,
     "metadata": {},
     "output_type": "execute_result"
    }
   ],
   "source": [
    "c2"
   ]
  },
  {
   "cell_type": "code",
   "execution_count": 27,
   "metadata": {},
   "outputs": [
    {
     "data": {
      "text/plain": [
       "False"
      ]
     },
     "execution_count": 27,
     "metadata": {},
     "output_type": "execute_result"
    }
   ],
   "source": [
    "set(c2[8]).issubset(trans[df[0][7]])"
   ]
  },
  {
   "cell_type": "code",
   "execution_count": 28,
   "metadata": {},
   "outputs": [
    {
     "data": {
      "text/plain": [
       "({'Jalebi', 'Milk'}, ['Kachori', 'Jalebi'])"
      ]
     },
     "execution_count": 28,
     "metadata": {},
     "output_type": "execute_result"
    }
   ],
   "source": [
    "set(c2[8]),trans[df[0][8]]"
   ]
  },
  {
   "cell_type": "code",
   "execution_count": 29,
   "metadata": {},
   "outputs": [
    {
     "data": {
      "text/plain": [
       "False"
      ]
     },
     "execution_count": 29,
     "metadata": {},
     "output_type": "execute_result"
    }
   ],
   "source": [
    "set(df[1][7]).issubset(set(c2[8]))"
   ]
  },
  {
   "cell_type": "code",
   "execution_count": 34,
   "metadata": {},
   "outputs": [],
   "source": [
    "\n",
    "C2[('Biscuit', 'Jalebi')]=C2[('Biscuit', 'Jalebi')]+1"
   ]
  },
  {
   "cell_type": "code",
   "execution_count": 31,
   "metadata": {},
   "outputs": [],
   "source": [
    "C2={}\n",
    "for i in range(df.shape[0]):\n",
    "    for j in c2:\n",
    "        if set(j).issubset(trans[df[0][i]]) and j in C2.keys():\n",
    "            C2[j]=C2[j]+1\n",
    "        else:\n",
    "            C2[j]=1"
   ]
  },
  {
   "cell_type": "code",
   "execution_count": 35,
   "metadata": {},
   "outputs": [
    {
     "data": {
      "text/plain": [
       "{('Biscuit', 'Jalebi'): 2,\n",
       " ('Biscuit', 'Kurkure'): 1,\n",
       " ('Biscuit', 'Lays'): 1,\n",
       " ('Biscuit', 'Milk'): 1,\n",
       " ('Biscuit', 'Samosha'): 1,\n",
       " ('Biscuit', 'Tea'): 1,\n",
       " ('Jalebi', 'Kurkure'): 1,\n",
       " ('Jalebi', 'Lays'): 1,\n",
       " ('Jalebi', 'Milk'): 1,\n",
       " ('Jalebi', 'Samosha'): 1,\n",
       " ('Jalebi', 'Tea'): 1,\n",
       " ('Kurkure', 'Lays'): 1,\n",
       " ('Kurkure', 'Milk'): 1,\n",
       " ('Kurkure', 'Samosha'): 1,\n",
       " ('Kurkure', 'Tea'): 1,\n",
       " ('Lays', 'Milk'): 1,\n",
       " ('Lays', 'Samosha'): 1,\n",
       " ('Lays', 'Tea'): 1,\n",
       " ('Milk', 'Samosha'): 1,\n",
       " ('Milk', 'Tea'): 1,\n",
       " ('Samosha', 'Tea'): 1}"
      ]
     },
     "execution_count": 35,
     "metadata": {},
     "output_type": "execute_result"
    }
   ],
   "source": [
    "C2"
   ]
  },
  {
   "cell_type": "code",
   "execution_count": null,
   "metadata": {},
   "outputs": [],
   "source": []
  },
  {
   "cell_type": "code",
   "execution_count": null,
   "metadata": {},
   "outputs": [],
   "source": []
  }
 ],
 "metadata": {
  "kernelspec": {
   "display_name": "Python 3",
   "language": "python",
   "name": "python3"
  },
  "language_info": {
   "codemirror_mode": {
    "name": "ipython",
    "version": 3
   },
   "file_extension": ".py",
   "mimetype": "text/x-python",
   "name": "python",
   "nbconvert_exporter": "python",
   "pygments_lexer": "ipython3",
   "version": "3.7.3"
  }
 },
 "nbformat": 4,
 "nbformat_minor": 2
}
